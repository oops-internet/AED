{
  "nbformat": 4,
  "nbformat_minor": 0,
  "metadata": {
    "colab": {
      "provenance": [],
      "gpuType": "T4",
      "authorship_tag": "ABX9TyM+HhvKqHCXz+PQrI3Jbq46",
      "include_colab_link": true
    },
    "kernelspec": {
      "name": "python3",
      "display_name": "Python 3"
    },
    "language_info": {
      "name": "python"
    },
    "accelerator": "GPU"
  },
  "cells": [
    {
      "cell_type": "markdown",
      "metadata": {
        "id": "view-in-github",
        "colab_type": "text"
      },
      "source": [
        "<a href=\"https://colab.research.google.com/github/oops-internet/AED/blob/main/APP_FInal_transcripci%C3%B3n_Audio_Video.ipynb\" target=\"_parent\"><img src=\"https://colab.research.google.com/assets/colab-badge.svg\" alt=\"Open In Colab\"/></a>"
      ]
    },
    {
      "cell_type": "code",
      "source": [
        "# @title Instalar Whisper\n",
        "import subprocess\n",
        "from tqdm import tqdm\n",
        "\n",
        "# Función para instalar WhisperX con barra de progreso\n",
        "def install_whisperx_with_progress():\n",
        "    # Comando de instalación\n",
        "    command = [\"pip\", \"install\", \"git+https://github.com/m-bain/whisperx.git\", \"--upgrade\"]\n",
        "\n",
        "    # Ejecutar el comando y mostrar la barra de progreso\n",
        "    with tqdm(total=100, desc=\"Instalando WhisperX\", position=0, leave=True) as pbar:\n",
        "        process = subprocess.Popen(command, stdout=subprocess.PIPE, stderr=subprocess.PIPE)\n",
        "        for line in process.stdout:\n",
        "            pbar.update(1)\n",
        "\n",
        "# Instalar WhisperX con barra de progreso\n",
        "install_whisperx_with_progress()\n"
      ],
      "metadata": {
        "id": "fin_Jldq4RvZ",
        "colab": {
          "base_uri": "https://localhost:8080/"
        },
        "cellView": "form",
        "outputId": "d4be2fa5-b31f-48df-a162-a397922ffbec"
      },
      "execution_count": 1,
      "outputs": [
        {
          "output_type": "stream",
          "name": "stderr",
          "text": [
            "Instalando WhisperX: 130it [00:12, 10.65it/s]\n"
          ]
        }
      ]
    },
    {
      "cell_type": "code",
      "source": [
        "# @title Transcripción de Audio y Video\n",
        "import whisperx\n",
        "import gc\n",
        "from google.colab import files\n",
        "import os\n",
        "from moviepy.editor import VideoFileClip\n",
        "import ipywidgets as widgets\n",
        "\n",
        "# Obtener códigos de idioma aceptados por WhisperX\n",
        "ACCEPTED_LANGUAGES = {\n",
        "    'Español (es)': 'es',\n",
        "    'Inglés (en)': 'en',\n",
        "    'Francés (fr)': 'fr',\n",
        "    'Portugués (pt)': 'pt',  # Agregar portugués a la lista\n",
        "}\n",
        "\n",
        "# Función para cargar y procesar el archivo de audio\n",
        "def process_audio_file(audio_file, target_language):\n",
        "    # Crear una subcarpeta con el nombre del archivo sin extensión\n",
        "    folder_name = os.path.splitext(os.path.basename(audio_file))[0]\n",
        "    folder_path = os.path.join(\"/content\", folder_name)\n",
        "    os.makedirs(folder_path, exist_ok=True)\n",
        "\n",
        "    # Mover el archivo subido a la subcarpeta\n",
        "    new_audio_file = os.path.join(folder_path, os.path.basename(audio_file))\n",
        "    os.rename(audio_file, new_audio_file)\n",
        "\n",
        "    # Convertir el video a audio si es un archivo de video\n",
        "    if new_audio_file.endswith((\".mp4\", \".mov\")):\n",
        "        video = VideoFileClip(new_audio_file)\n",
        "        audio_clip = video.audio\n",
        "        new_audio_file = os.path.join(folder_path, folder_name + \".mp3\")\n",
        "        audio_clip.write_audiofile(new_audio_file)\n",
        "\n",
        "    device = \"cuda\"\n",
        "    batch_size = 16\n",
        "    compute_type = \"float16\"\n",
        "\n",
        "    # Transcripción\n",
        "    model = whisperx.load_model(\"large-v2\", device, compute_type=compute_type)\n",
        "    audio = whisperx.load_audio(new_audio_file)\n",
        "    result = model.transcribe(audio, batch_size=batch_size, language=target_language)\n",
        "    print(result[\"segments\"])\n",
        "\n",
        "    # Alineación\n",
        "    model_a, metadata = whisperx.load_align_model(language_code=result[\"language\"], device=device)\n",
        "    result = whisperx.align(result[\"segments\"], model_a, metadata, audio, device, return_char_alignments=False)\n",
        "    print(result[\"segments\"])\n",
        "\n",
        "    # Guardar la transcripción en un archivo de texto\n",
        "    transcription_text = \"\\n\".join([segment['text'] for segment in result[\"segments\"]])\n",
        "    transcription_file = os.path.join(folder_path, \"transcription.txt\")\n",
        "    with open(transcription_file, \"w\") as f:\n",
        "        f.write(transcription_text)\n",
        "\n",
        "    print(\"Transcripción completada y guardada en:\", transcription_file)\n",
        "\n",
        "    # Descargar el archivo de transcripción\n",
        "    files.download(transcription_file)\n",
        "\n",
        "# Función para ejecutar la transcripción después de seleccionar el idioma de destino\n",
        "def execute_transcription(b):\n",
        "    selected_language = language_dropdown.value\n",
        "    target_language = ACCEPTED_LANGUAGES.get(selected_language, None)\n",
        "    if target_language:\n",
        "        process_audio_file(uploaded_audio_file, target_language)\n",
        "    else:\n",
        "        print(f\"'{selected_language}' no es un idioma válido admitido por WhisperX.\")\n",
        "\n",
        "# Subir el archivo de audio\n",
        "uploaded = files.upload()\n",
        "uploaded_audio_file = next(iter(uploaded))\n",
        "\n",
        "# Crear lista desplegable para seleccionar el idioma de destino\n",
        "language_dropdown = widgets.Dropdown(\n",
        "    options=list(ACCEPTED_LANGUAGES.keys()),\n",
        "    description=\"Idioma destino:\",\n",
        "    style={'description_width': 'initial'},\n",
        "    disabled=False,\n",
        ")\n",
        "\n",
        "# Mostrar lista desplegable y botón de ejecutar transcripción\n",
        "execute_button = widgets.Button(description=\"Ejecutar transcripción\")\n",
        "execute_button.on_click(execute_transcription)\n",
        "widgets.VBox([language_dropdown, execute_button])\n"
      ],
      "metadata": {
        "id": "XUpFjbG24kig",
        "cellView": "form"
      },
      "execution_count": null,
      "outputs": []
    }
  ]
}